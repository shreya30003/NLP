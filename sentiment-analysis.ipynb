{
 "cells": [
  {
   "cell_type": "markdown",
   "metadata": {},
   "source": [
    "## Sentiment Analysis "
   ]
  },
  {
   "cell_type": "markdown",
   "metadata": {},
   "source": [
    "`Pipeline for developing sentiment analysis task`\n",
    "\n",
    "- Data Acquisition - https://www.kaggle.com/datasets/abhi8923shriv/sentiment-analysis-dataset\n",
    "- Data Preprocessing (Text Preparation)\n",
    "- Feature Representation\n",
    "- Model Selection\n",
    "- Model Training\n",
    "- Testing the model\n",
    "- Deployment"
   ]
  },
  {
   "cell_type": "markdown",
   "metadata": {},
   "source": [
    "### Import necessary libraries and load the dataset"
   ]
  },
  {
   "cell_type": "code",
   "execution_count": 1,
   "metadata": {},
   "outputs": [],
   "source": [
    "import pandas as pd\n",
    "import numpy as np\n",
    "import matplotlib.pyplot as plt\n",
    "import chardet\n",
    "import seaborn as sns"
   ]
  },
  {
   "cell_type": "code",
   "execution_count": 2,
   "metadata": {},
   "outputs": [],
   "source": [
    "# !pip install gensim\n",
    "# !pip install chardet"
   ]
  },
  {
   "cell_type": "code",
   "execution_count": 3,
   "metadata": {},
   "outputs": [
    {
     "name": "stdout",
     "output_type": "stream",
     "text": [
      "Windows-1252\n"
     ]
    }
   ],
   "source": [
    "# To detect the encoding of the file\n",
    "rawdata = open('Dataset/train.csv', 'rb').read()\n",
    "result = chardet.detect(rawdata)\n",
    "encoding = result['encoding']\n",
    "print(encoding)"
   ]
  },
  {
   "cell_type": "code",
   "execution_count": 4,
   "metadata": {},
   "outputs": [],
   "source": [
    "df = pd.read_csv('Dataset/train.csv', encoding=encoding)"
   ]
  },
  {
   "cell_type": "markdown",
   "metadata": {},
   "source": [
    "### Data Exploration"
   ]
  },
  {
   "cell_type": "code",
   "execution_count": 5,
   "metadata": {},
   "outputs": [
    {
     "data": {
      "text/plain": [
       "(27481, 10)"
      ]
     },
     "execution_count": 5,
     "metadata": {},
     "output_type": "execute_result"
    }
   ],
   "source": [
    "df.shape"
   ]
  },
  {
   "cell_type": "code",
   "execution_count": 6,
   "metadata": {},
   "outputs": [
    {
     "data": {
      "text/html": [
       "<div>\n",
       "<style scoped>\n",
       "    .dataframe tbody tr th:only-of-type {\n",
       "        vertical-align: middle;\n",
       "    }\n",
       "\n",
       "    .dataframe tbody tr th {\n",
       "        vertical-align: top;\n",
       "    }\n",
       "\n",
       "    .dataframe thead th {\n",
       "        text-align: right;\n",
       "    }\n",
       "</style>\n",
       "<table border=\"1\" class=\"dataframe\">\n",
       "  <thead>\n",
       "    <tr style=\"text-align: right;\">\n",
       "      <th></th>\n",
       "      <th>textID</th>\n",
       "      <th>text</th>\n",
       "      <th>selected_text</th>\n",
       "      <th>sentiment</th>\n",
       "      <th>Time of Tweet</th>\n",
       "      <th>Age of User</th>\n",
       "      <th>Country</th>\n",
       "      <th>Population -2020</th>\n",
       "      <th>Land Area (Km²)</th>\n",
       "      <th>Density (P/Km²)</th>\n",
       "    </tr>\n",
       "  </thead>\n",
       "  <tbody>\n",
       "    <tr>\n",
       "      <th>0</th>\n",
       "      <td>cb774db0d1</td>\n",
       "      <td>I`d have responded, if I were going</td>\n",
       "      <td>I`d have responded, if I were going</td>\n",
       "      <td>neutral</td>\n",
       "      <td>morning</td>\n",
       "      <td>0-20</td>\n",
       "      <td>Afghanistan</td>\n",
       "      <td>38928346</td>\n",
       "      <td>652860.0</td>\n",
       "      <td>60</td>\n",
       "    </tr>\n",
       "    <tr>\n",
       "      <th>1</th>\n",
       "      <td>549e992a42</td>\n",
       "      <td>Sooo SAD I will miss you here in San Diego!!!</td>\n",
       "      <td>Sooo SAD</td>\n",
       "      <td>negative</td>\n",
       "      <td>noon</td>\n",
       "      <td>21-30</td>\n",
       "      <td>Albania</td>\n",
       "      <td>2877797</td>\n",
       "      <td>27400.0</td>\n",
       "      <td>105</td>\n",
       "    </tr>\n",
       "  </tbody>\n",
       "</table>\n",
       "</div>"
      ],
      "text/plain": [
       "       textID                                            text  \\\n",
       "0  cb774db0d1             I`d have responded, if I were going   \n",
       "1  549e992a42   Sooo SAD I will miss you here in San Diego!!!   \n",
       "\n",
       "                         selected_text sentiment Time of Tweet Age of User  \\\n",
       "0  I`d have responded, if I were going   neutral       morning        0-20   \n",
       "1                             Sooo SAD  negative          noon       21-30   \n",
       "\n",
       "       Country  Population -2020  Land Area (Km²)  Density (P/Km²)  \n",
       "0  Afghanistan          38928346         652860.0               60  \n",
       "1      Albania           2877797          27400.0              105  "
      ]
     },
     "execution_count": 6,
     "metadata": {},
     "output_type": "execute_result"
    }
   ],
   "source": [
    "df.head(2)"
   ]
  },
  {
   "cell_type": "code",
   "execution_count": 7,
   "metadata": {},
   "outputs": [
    {
     "data": {
      "text/plain": [
       "textID              27481\n",
       "text                27480\n",
       "selected_text       22430\n",
       "sentiment               3\n",
       "Time of Tweet           3\n",
       "Age of User             6\n",
       "Country               195\n",
       "Population -2020      195\n",
       "Land Area (Km²)       193\n",
       "Density (P/Km²)       136\n",
       "dtype: int64"
      ]
     },
     "execution_count": 7,
     "metadata": {},
     "output_type": "execute_result"
    }
   ],
   "source": [
    "df.nunique()"
   ]
  },
  {
   "cell_type": "code",
   "execution_count": 8,
   "metadata": {},
   "outputs": [],
   "source": [
    "df = df.drop(df.columns[[0,2,4,5,6,7,8,9]], axis=1)"
   ]
  },
  {
   "cell_type": "code",
   "execution_count": 9,
   "metadata": {},
   "outputs": [
    {
     "data": {
      "text/html": [
       "<div>\n",
       "<style scoped>\n",
       "    .dataframe tbody tr th:only-of-type {\n",
       "        vertical-align: middle;\n",
       "    }\n",
       "\n",
       "    .dataframe tbody tr th {\n",
       "        vertical-align: top;\n",
       "    }\n",
       "\n",
       "    .dataframe thead th {\n",
       "        text-align: right;\n",
       "    }\n",
       "</style>\n",
       "<table border=\"1\" class=\"dataframe\">\n",
       "  <thead>\n",
       "    <tr style=\"text-align: right;\">\n",
       "      <th></th>\n",
       "      <th>text</th>\n",
       "      <th>sentiment</th>\n",
       "    </tr>\n",
       "  </thead>\n",
       "  <tbody>\n",
       "    <tr>\n",
       "      <th>0</th>\n",
       "      <td>I`d have responded, if I were going</td>\n",
       "      <td>neutral</td>\n",
       "    </tr>\n",
       "    <tr>\n",
       "      <th>1</th>\n",
       "      <td>Sooo SAD I will miss you here in San Diego!!!</td>\n",
       "      <td>negative</td>\n",
       "    </tr>\n",
       "  </tbody>\n",
       "</table>\n",
       "</div>"
      ],
      "text/plain": [
       "                                             text sentiment\n",
       "0             I`d have responded, if I were going   neutral\n",
       "1   Sooo SAD I will miss you here in San Diego!!!  negative"
      ]
     },
     "execution_count": 9,
     "metadata": {},
     "output_type": "execute_result"
    }
   ],
   "source": [
    "df.head(2)"
   ]
  },
  {
   "cell_type": "code",
   "execution_count": 10,
   "metadata": {},
   "outputs": [
    {
     "name": "stdout",
     "output_type": "stream",
     "text": [
      "text         1\n",
      "sentiment    0\n",
      "dtype: int64\n"
     ]
    }
   ],
   "source": [
    "print(df.isnull().sum())"
   ]
  },
  {
   "cell_type": "code",
   "execution_count": 11,
   "metadata": {},
   "outputs": [],
   "source": [
    "df.dropna(inplace=True)"
   ]
  },
  {
   "cell_type": "code",
   "execution_count": 12,
   "metadata": {},
   "outputs": [
    {
     "data": {
      "text/plain": [
       "Text(0.5, 1.0, 'Sentiment Distribution')"
      ]
     },
     "execution_count": 12,
     "metadata": {},
     "output_type": "execute_result"
    },
    {
     "data": {
      "image/png": "[encoded data removed]",
      "text/plain": [
       "<Figure size 640x480 with 1 Axes>"
      ]
     },
     "metadata": {},
     "output_type": "display_data"
    }
   ],
   "source": [
    "sns.countplot(df['sentiment'])\n",
    "plt.title('Sentiment Distribution')"
   ]
  },
  {
   "cell_type": "code",
   "execution_count": 13,
   "metadata": {},
   "outputs": [
    {
     "data": {
      "text/plain": [
       "(27480, 2)"
      ]
     },
     "execution_count": 13,
     "metadata": {},
     "output_type": "execute_result"
    }
   ],
   "source": [
    "df.shape"
   ]
  },
  {
   "cell_type": "markdown",
   "metadata": {},
   "source": [
    "### Text Preprocessing\n",
    "\n",
    "1. **Lowercasing**: Convert all text to lowercase to ensure consistency in representation.\n",
    "\n",
    "2. **Noise Removal**: Eliminate irrelevant characters, symbols, URLs or HTML tags from the text data.\n",
    "\n",
    "3. **Handling Contractions**: Expand contractions into their full forms, e.g., \"can't\" to \"cannot\".\n",
    "\n",
    "4. **Tokenization**: Split text into individual words or tokens.\n",
    "\n",
    "5. **Stopword Removal**: Remove common words that do not carry significant meaning, such as \"the\", \"is\", \"and\".\n",
    "\n",
    "6. **Punctuation Removal**: Remove punctuation marks from the text.\n",
    "\n",
    "7. **Stemming**: Reduce words to their root form by removing suffixes, e.g., \"running\" to \"run\".\n",
    "\n",
    "8. **Lemmatization**: Similar to stemming, but reduces words to their base or dictionary form, e.g., \"running\" to \"run\"."
   ]
  },
  {
   "cell_type": "markdown",
   "metadata": {},
   "source": [
    "`Lowercasing`"
   ]
  },
  {
   "cell_type": "code",
   "execution_count": 14,
   "metadata": {},
   "outputs": [
    {
     "data": {
      "text/plain": [
       "' I`d have responded, if I were going'"
      ]
     },
     "execution_count": 14,
     "metadata": {},
     "output_type": "execute_result"
    }
   ],
   "source": [
    "df['text'][0]"
   ]
  },
  {
   "cell_type": "code",
   "execution_count": 15,
   "metadata": {},
   "outputs": [],
   "source": [
    "df['text'] = df['text'].str.lower()"
   ]
  },
  {
   "cell_type": "code",
   "execution_count": 16,
   "metadata": {},
   "outputs": [
    {
     "data": {
      "text/plain": [
       "' i`d have responded, if i were going'"
      ]
     },
     "execution_count": 16,
     "metadata": {},
     "output_type": "execute_result"
    }
   ],
   "source": [
    "df['text'][0]"
   ]
  },
  {
   "cell_type": "markdown",
   "metadata": {},
   "source": [
    "`Handling Contradictions`"
   ]
  },
  {
   "cell_type": "code",
   "execution_count": 17,
   "metadata": {},
   "outputs": [],
   "source": [
    "contractions_dict = {\n",
    "    \"can't\": \"cannot\",\n",
    "    \"won't\": \"will not\",\n",
    "    \"don't\": \"do not\",\n",
    "    \"didn't\": \"did not\",\n",
    "    \"doesn't\": \"does not\",\n",
    "    \"haven't\": \"have not\",\n",
    "    \"hasn't\": \"has not\",\n",
    "    \"hadn't\": \"had not\",\n",
    "    \"wouldn't\": \"would not\",\n",
    "    \"shouldn't\": \"should not\",\n",
    "    \"aren't\": \"are not\",\n",
    "    \"weren't\": \"were not\",\n",
    "    \"isn't\": \"is not\",\n",
    "    \"ain't\": \"am not\",\n",
    "    \"it's\": \"it is\",\n",
    "    \"he's\": \"he is\",\n",
    "    \"she's\": \"she is\",\n",
    "    \"i'm\": \"i am\",\n",
    "    \"i've\": \"i have\",\n",
    "    \"you're\": \"you are\",\n",
    "    \"you've\": \"you have\",\n",
    "    \"you'll\": \"you will\",\n",
    "    \"we're\": \"we are\",\n",
    "    \"we've\": \"we have\",\n",
    "    \"we'll\": \"we will\",\n",
    "    \"they're\": \"they are\",\n",
    "    \"they've\": \"they have\",\n",
    "    \"they'll\": \"they will\",\n",
    "    \"that's\": \"that is\",\n",
    "    \"what's\": \"what is\",\n",
    "    \"who's\": \"who is\",\n",
    "    \"where's\": \"where is\",\n",
    "    \"how's\": \"how is\",\n",
    "    \"let's\":\"let us\",\n",
    "    \"y'all\":\"you all\",\n",
    "    \"we'd\":\"we would\",\n",
    "    \"they'd\":\"they would\",\n",
    "    \"you'd\":\"you would\",\n",
    "    \"we've\":\"we have\",\n",
    "    \"they've\":\"they have\",\n",
    "    \"you've\":\"you have\",\n",
    "    \"we're\":\"we are\",\n",
    "    \"they're\":\"they are\",\n",
    "    \"you're\":\"you are\",\n",
    "    \"i'll\":\"i will\",\n",
    "    \"he'll\":\"he will\",\n",
    "    \"she'll\":\"she will\",\n",
    "    \"it'll\":\"it will\",\n",
    "    \"i'd\":\"i would\",\n",
    "    \"i`d\":\"i would\",\n",
    "    \"he'd\":\"he would\",\n",
    "    \"she'd\":\"she would\",\n",
    "    \"it'd\":\"it would\",\n",
    "    \"i've\":\"i have\"    \n",
    "}"
   ]
  },
  {
   "cell_type": "code",
   "execution_count": 18,
   "metadata": {},
   "outputs": [],
   "source": [
    "def handle_contractions(text):\n",
    "    for word, replacement in contractions_dict.items():\n",
    "        text = text.replace(word, replacement)\n",
    "    return text\n",
    "\n",
    "df['contradictions'] = df['text'].apply(handle_contractions)"
   ]
  },
  {
   "cell_type": "code",
   "execution_count": 19,
   "metadata": {},
   "outputs": [
    {
     "data": {
      "text/plain": [
       "' i would have responded, if i were going'"
      ]
     },
     "execution_count": 19,
     "metadata": {},
     "output_type": "execute_result"
    }
   ],
   "source": [
    "df['contradictions'][0]"
   ]
  },
  {
   "cell_type": "markdown",
   "metadata": {},
   "source": [
    "`Noise Removal` - Check for HTML tags and URLs or any unwanted symbols/characters"
   ]
  },
  {
   "cell_type": "code",
   "execution_count": 20,
   "metadata": {},
   "outputs": [],
   "source": [
    "import re\n",
    "\n",
    "def find_html_tags(text):\n",
    "    pattern = r'<.*?>'\n",
    "    matches = re.findall(pattern, text)\n",
    "    return matches\n",
    "\n",
    "df['html_tags'] = df['contradictions'].apply(find_html_tags)"
   ]
  },
  {
   "cell_type": "code",
   "execution_count": 21,
   "metadata": {},
   "outputs": [
    {
     "data": {
      "text/plain": [
       "html_tags\n",
       "[]                                              27468\n",
       "[<(`-`)>]                                           1\n",
       "[<=====8=====>]                                     1\n",
       "[<never wear your pajama pants to school  >]        1\n",
       "[<:baby boy:>]                                      1\n",
       "[< who choose chem>]                                1\n",
       "[<3 lurvee ya`ll[;>]                                1\n",
       "[</whine>]                                          1\n",
       "[<cries>]                                           1\n",
       "[<sigh>]                                            1\n",
       "[<.<    >]                                          1\n",
       "[<i>]                                               1\n",
       "[<emo>, </emo>]                                     1\n",
       "Name: count, dtype: int64"
      ]
     },
     "execution_count": 21,
     "metadata": {},
     "output_type": "execute_result"
    }
   ],
   "source": [
    "df['html_tags'].value_counts() # no html tags"
   ]
  },
  {
   "cell_type": "code",
   "execution_count": 22,
   "metadata": {},
   "outputs": [],
   "source": [
    "def check_for_urls(text):\n",
    "    pattern = r'https?://\\S+|www\\.\\S+'\n",
    "    urls = re.findall(pattern, text)\n",
    "    return urls\n",
    "\n",
    "df['urls'] = df['contradictions'].apply(check_for_urls)"
   ]
  },
  {
   "cell_type": "code",
   "execution_count": 23,
   "metadata": {},
   "outputs": [
    {
     "data": {
      "text/plain": [
       "urls\n",
       "[]                                                                       26197\n",
       "[http://tweet.sg]                                                           10\n",
       "[http://ustre.am/2w5v)]                                                      5\n",
       "[www.youtube.com/chineselearn]                                               4\n",
       "[www...]                                                                     4\n",
       "                                                                         ...  \n",
       "[http://www.myspace.com/dica_grl, www.myspace.com/discosoutmurdersin]        1\n",
       "[http://blip.fm/~5ygpg]                                                      1\n",
       "[http://bit.ly/grrda]                                                        1\n",
       "[http://myloc.me/feb]                                                        1\n",
       "[http://twitpic.com/663vr]                                                   1\n",
       "Name: count, Length: 1234, dtype: int64"
      ]
     },
     "execution_count": 23,
     "metadata": {},
     "output_type": "execute_result"
    }
   ],
   "source": [
    "df['urls'].value_counts() # urls present"
   ]
  },
  {
   "cell_type": "code",
   "execution_count": 24,
   "metadata": {},
   "outputs": [],
   "source": [
    "def remove_urls(text):\n",
    "    pattern = r'https?://\\S+|www\\.\\S+'\n",
    "    cleaned_text = re.sub(pattern, '', text)\n",
    "    return cleaned_text\n",
    "\n",
    "df['url_removed'] = df['contradictions'].apply(remove_urls)"
   ]
  },
  {
   "cell_type": "markdown",
   "metadata": {},
   "source": [
    "`Tokenization` - WordTokenize and TweetTokenize"
   ]
  },
  {
   "cell_type": "code",
   "execution_count": 25,
   "metadata": {},
   "outputs": [],
   "source": [
    "import nltk\n",
    "from nltk.tokenize import word_tokenize\n",
    "\n",
    "df['tokens'] = df['url_removed'].apply(word_tokenize)"
   ]
  },
  {
   "cell_type": "code",
   "execution_count": 26,
   "metadata": {},
   "outputs": [
    {
     "data": {
      "text/plain": [
       "['i', 'would', 'have', 'responded', ',', 'if', 'i', 'were', 'going']"
      ]
     },
     "execution_count": 26,
     "metadata": {},
     "output_type": "execute_result"
    }
   ],
   "source": [
    "df['tokens'][0]"
   ]
  },
  {
   "cell_type": "code",
   "execution_count": 27,
   "metadata": {},
   "outputs": [],
   "source": [
    "# can't is separated into ca and n't, this is accepted in Sentiment Analysis but if you prefer to keep them as a single token, use TweetTokenizer\n",
    "from nltk.tokenize import TweetTokenizer\n",
    "\n",
    "tokenizer = TweetTokenizer(reduce_len=True)\n",
    "df['tokens1'] = df['url_removed'].apply(tokenizer.tokenize)"
   ]
  },
  {
   "cell_type": "code",
   "execution_count": 28,
   "metadata": {},
   "outputs": [
    {
     "data": {
      "text/plain": [
       "['i', 'would', 'have', 'responded', ',', 'if', 'i', 'were', 'going']"
      ]
     },
     "execution_count": 28,
     "metadata": {},
     "output_type": "execute_result"
    }
   ],
   "source": [
    "df['tokens1'][0]"
   ]
  },
  {
   "cell_type": "markdown",
   "metadata": {},
   "source": [
    "`Stop Word Removal`"
   ]
  },
  {
   "cell_type": "code",
   "execution_count": 29,
   "metadata": {},
   "outputs": [],
   "source": [
    "from nltk.corpus import stopwords\n",
    "\n",
    "stop_words = set(stopwords.words('english'))\n",
    "\n",
    "df['stop_words_removed'] = df['tokens1'].apply(lambda x: [word for word in x if word not in stop_words])"
   ]
  },
  {
   "cell_type": "code",
   "execution_count": 30,
   "metadata": {},
   "outputs": [
    {
     "data": {
      "text/plain": [
       "['would', 'responded', ',', 'going']"
      ]
     },
     "execution_count": 30,
     "metadata": {},
     "output_type": "execute_result"
    }
   ],
   "source": [
    "df['stop_words_removed'][0]"
   ]
  },
  {
   "cell_type": "markdown",
   "metadata": {},
   "source": [
    "`Punctuation Removal`"
   ]
  },
  {
   "cell_type": "code",
   "execution_count": 31,
   "metadata": {},
   "outputs": [
    {
     "data": {
      "text/plain": [
       "['would', 'responded', ',', 'going']"
      ]
     },
     "execution_count": 31,
     "metadata": {},
     "output_type": "execute_result"
    }
   ],
   "source": [
    "df['stop_words_removed'][0]"
   ]
  },
  {
   "cell_type": "code",
   "execution_count": 32,
   "metadata": {},
   "outputs": [],
   "source": [
    "import string\n",
    "\n",
    "def remove_punctuation(words):\n",
    "    table = str.maketrans('', '', string.punctuation)\n",
    "    stripped = [i.translate(table) for i in words]\n",
    "    return stripped"
   ]
  },
  {
   "cell_type": "code",
   "execution_count": 33,
   "metadata": {},
   "outputs": [],
   "source": [
    "df['punctuation_removed'] = df['stop_words_removed'].apply(remove_punctuation)"
   ]
  },
  {
   "cell_type": "code",
   "execution_count": 34,
   "metadata": {},
   "outputs": [
    {
     "data": {
      "text/plain": [
       "['would', 'responded', '', 'going']"
      ]
     },
     "execution_count": 34,
     "metadata": {},
     "output_type": "execute_result"
    }
   ],
   "source": [
    "df['punctuation_removed'][0]"
   ]
  },
  {
   "cell_type": "code",
   "execution_count": 35,
   "metadata": {},
   "outputs": [],
   "source": [
    "# remove empty strings\n",
    "df['punctuation_removed'] = df['punctuation_removed'].apply(lambda x: [i for i in x if i])"
   ]
  },
  {
   "cell_type": "code",
   "execution_count": 36,
   "metadata": {},
   "outputs": [
    {
     "data": {
      "text/plain": [
       "['would', 'responded', 'going']"
      ]
     },
     "execution_count": 36,
     "metadata": {},
     "output_type": "execute_result"
    }
   ],
   "source": [
    "df['punctuation_removed'][0] # ['',''] has been removed"
   ]
  },
  {
   "attachments": {
    "image.png": {
     "image/png": "[encoded data removed]"
    }
   },
   "cell_type": "markdown",
   "metadata": {},
   "source": [
    "![image.png](attachment:image.png)"
   ]
  },
  {
   "cell_type": "markdown",
   "metadata": {},
   "source": [
    "`Stemming`"
   ]
  },
  {
   "cell_type": "code",
   "execution_count": 37,
   "metadata": {},
   "outputs": [],
   "source": [
    "import nltk\n",
    "from nltk.stem import PorterStemmer\n",
    "\n",
    "stemmer = PorterStemmer()\n",
    "\n",
    "df['stemmed'] = df['punctuation_removed'].apply(lambda x: [stemmer.stem(word) for word in x])"
   ]
  },
  {
   "cell_type": "code",
   "execution_count": 38,
   "metadata": {},
   "outputs": [
    {
     "data": {
      "text/plain": [
       "['would', 'respond', 'go']"
      ]
     },
     "execution_count": 38,
     "metadata": {},
     "output_type": "execute_result"
    }
   ],
   "source": [
    "df['stemmed'][0]"
   ]
  },
  {
   "cell_type": "markdown",
   "metadata": {},
   "source": [
    "`Lemmatization`"
   ]
  },
  {
   "cell_type": "code",
   "execution_count": 39,
   "metadata": {},
   "outputs": [],
   "source": [
    "from nltk.stem import WordNetLemmatizer\n",
    "\n",
    "lemmatizer = WordNetLemmatizer()\n",
    "\n",
    "df['lemmatized'] = df['punctuation_removed'].apply(lambda x: [lemmatizer.lemmatize(word) for word in x])"
   ]
  },
  {
   "cell_type": "code",
   "execution_count": 40,
   "metadata": {},
   "outputs": [
    {
     "data": {
      "text/plain": [
       "['would', 'responded', 'going']"
      ]
     },
     "execution_count": 40,
     "metadata": {},
     "output_type": "execute_result"
    }
   ],
   "source": [
    "df['lemmatized'][0]"
   ]
  },
  {
   "cell_type": "markdown",
   "metadata": {},
   "source": [
    "### Feature Representation\n",
    "\n",
    "- Bag of Words \n",
    "- TF-IDF \n",
    "- Word2Vec - Continuous Bag of Words, Skip gram "
   ]
  },
  {
   "cell_type": "code",
   "execution_count": 41,
   "metadata": {},
   "outputs": [
    {
     "data": {
      "text/html": [
       "<div>\n",
       "<style scoped>\n",
       "    .dataframe tbody tr th:only-of-type {\n",
       "        vertical-align: middle;\n",
       "    }\n",
       "\n",
       "    .dataframe tbody tr th {\n",
       "        vertical-align: top;\n",
       "    }\n",
       "\n",
       "    .dataframe thead th {\n",
       "        text-align: right;\n",
       "    }\n",
       "</style>\n",
       "<table border=\"1\" class=\"dataframe\">\n",
       "  <thead>\n",
       "    <tr style=\"text-align: right;\">\n",
       "      <th></th>\n",
       "      <th>text</th>\n",
       "      <th>sentiment</th>\n",
       "      <th>contradictions</th>\n",
       "      <th>html_tags</th>\n",
       "      <th>urls</th>\n",
       "      <th>url_removed</th>\n",
       "      <th>tokens</th>\n",
       "      <th>tokens1</th>\n",
       "      <th>stop_words_removed</th>\n",
       "      <th>punctuation_removed</th>\n",
       "      <th>stemmed</th>\n",
       "      <th>lemmatized</th>\n",
       "    </tr>\n",
       "  </thead>\n",
       "  <tbody>\n",
       "    <tr>\n",
       "      <th>0</th>\n",
       "      <td>i`d have responded, if i were going</td>\n",
       "      <td>neutral</td>\n",
       "      <td>i would have responded, if i were going</td>\n",
       "      <td>[]</td>\n",
       "      <td>[]</td>\n",
       "      <td>i would have responded, if i were going</td>\n",
       "      <td>[i, would, have, responded, ,, if, i, were, go...</td>\n",
       "      <td>[i, would, have, responded, ,, if, i, were, go...</td>\n",
       "      <td>[would, responded, ,, going]</td>\n",
       "      <td>[would, responded, going]</td>\n",
       "      <td>[would, respond, go]</td>\n",
       "      <td>[would, responded, going]</td>\n",
       "    </tr>\n",
       "    <tr>\n",
       "      <th>1</th>\n",
       "      <td>sooo sad i will miss you here in san diego!!!</td>\n",
       "      <td>negative</td>\n",
       "      <td>sooo sad i will miss you here in san diego!!!</td>\n",
       "      <td>[]</td>\n",
       "      <td>[]</td>\n",
       "      <td>sooo sad i will miss you here in san diego!!!</td>\n",
       "      <td>[sooo, sad, i, will, miss, you, here, in, san,...</td>\n",
       "      <td>[sooo, sad, i, will, miss, you, here, in, san,...</td>\n",
       "      <td>[sooo, sad, miss, san, diego, !, !, !]</td>\n",
       "      <td>[sooo, sad, miss, san, diego]</td>\n",
       "      <td>[sooo, sad, miss, san, diego]</td>\n",
       "      <td>[sooo, sad, miss, san, diego]</td>\n",
       "    </tr>\n",
       "  </tbody>\n",
       "</table>\n",
       "</div>"
      ],
      "text/plain": [
       "                                             text sentiment  \\\n",
       "0             i`d have responded, if i were going   neutral   \n",
       "1   sooo sad i will miss you here in san diego!!!  negative   \n",
       "\n",
       "                                   contradictions html_tags urls  \\\n",
       "0         i would have responded, if i were going        []   []   \n",
       "1   sooo sad i will miss you here in san diego!!!        []   []   \n",
       "\n",
       "                                      url_removed  \\\n",
       "0         i would have responded, if i were going   \n",
       "1   sooo sad i will miss you here in san diego!!!   \n",
       "\n",
       "                                              tokens  \\\n",
       "0  [i, would, have, responded, ,, if, i, were, go...   \n",
       "1  [sooo, sad, i, will, miss, you, here, in, san,...   \n",
       "\n",
       "                                             tokens1  \\\n",
       "0  [i, would, have, responded, ,, if, i, were, go...   \n",
       "1  [sooo, sad, i, will, miss, you, here, in, san,...   \n",
       "\n",
       "                       stop_words_removed            punctuation_removed  \\\n",
       "0            [would, responded, ,, going]      [would, responded, going]   \n",
       "1  [sooo, sad, miss, san, diego, !, !, !]  [sooo, sad, miss, san, diego]   \n",
       "\n",
       "                         stemmed                     lemmatized  \n",
       "0           [would, respond, go]      [would, responded, going]  \n",
       "1  [sooo, sad, miss, san, diego]  [sooo, sad, miss, san, diego]  "
      ]
     },
     "execution_count": 41,
     "metadata": {},
     "output_type": "execute_result"
    }
   ],
   "source": [
    "df.head(2)"
   ]
  },
  {
   "cell_type": "code",
   "execution_count": 42,
   "metadata": {},
   "outputs": [],
   "source": [
    "df = df[['sentiment', 'lemmatized']]"
   ]
  },
  {
   "cell_type": "code",
   "execution_count": 43,
   "metadata": {},
   "outputs": [
    {
     "data": {
      "text/plain": [
       "sentiment\n",
       "neutral     11117\n",
       "positive     8582\n",
       "negative     7781\n",
       "Name: count, dtype: int64"
      ]
     },
     "execution_count": 43,
     "metadata": {},
     "output_type": "execute_result"
    }
   ],
   "source": [
    "df['sentiment'].value_counts() "
   ]
  },
  {
   "cell_type": "code",
   "execution_count": 44,
   "metadata": {},
   "outputs": [],
   "source": [
    "df['sentiment'] = df['sentiment'].map({'neutral': 1, 'negative': 0, 'positive': 2})"
   ]
  },
  {
   "cell_type": "code",
   "execution_count": 45,
   "metadata": {},
   "outputs": [],
   "source": [
    "df.columns = ['sentiment', 'text']"
   ]
  },
  {
   "cell_type": "code",
   "execution_count": 46,
   "metadata": {},
   "outputs": [
    {
     "data": {
      "text/html": [
       "<div>\n",
       "<style scoped>\n",
       "    .dataframe tbody tr th:only-of-type {\n",
       "        vertical-align: middle;\n",
       "    }\n",
       "\n",
       "    .dataframe tbody tr th {\n",
       "        vertical-align: top;\n",
       "    }\n",
       "\n",
       "    .dataframe thead th {\n",
       "        text-align: right;\n",
       "    }\n",
       "</style>\n",
       "<table border=\"1\" class=\"dataframe\">\n",
       "  <thead>\n",
       "    <tr style=\"text-align: right;\">\n",
       "      <th></th>\n",
       "      <th>sentiment</th>\n",
       "      <th>text</th>\n",
       "    </tr>\n",
       "  </thead>\n",
       "  <tbody>\n",
       "    <tr>\n",
       "      <th>0</th>\n",
       "      <td>1</td>\n",
       "      <td>[would, responded, going]</td>\n",
       "    </tr>\n",
       "    <tr>\n",
       "      <th>1</th>\n",
       "      <td>0</td>\n",
       "      <td>[sooo, sad, miss, san, diego]</td>\n",
       "    </tr>\n",
       "  </tbody>\n",
       "</table>\n",
       "</div>"
      ],
      "text/plain": [
       "   sentiment                           text\n",
       "0          1      [would, responded, going]\n",
       "1          0  [sooo, sad, miss, san, diego]"
      ]
     },
     "execution_count": 46,
     "metadata": {},
     "output_type": "execute_result"
    }
   ],
   "source": [
    "df.head(2)"
   ]
  },
  {
   "cell_type": "code",
   "execution_count": 47,
   "metadata": {},
   "outputs": [
    {
     "data": {
      "text/plain": [
       "[['would', 'responded', 'going'], ['sooo', 'sad', 'miss', 'san', 'diego']]"
      ]
     },
     "execution_count": 47,
     "metadata": {},
     "output_type": "execute_result"
    }
   ],
   "source": [
    "sentences = df['text'].values.tolist()\n",
    "sentences[:2]"
   ]
  },
  {
   "cell_type": "code",
   "execution_count": 48,
   "metadata": {},
   "outputs": [
    {
     "data": {
      "text/plain": [
       "27480"
      ]
     },
     "execution_count": 48,
     "metadata": {},
     "output_type": "execute_result"
    }
   ],
   "source": [
    "len(sentences)"
   ]
  },
  {
   "cell_type": "code",
   "execution_count": 49,
   "metadata": {},
   "outputs": [],
   "source": [
    "sentences_list = [' '.join(i) for i in sentences]"
   ]
  },
  {
   "cell_type": "code",
   "execution_count": 50,
   "metadata": {},
   "outputs": [
    {
     "data": {
      "text/plain": [
       "['would responded going', 'sooo sad miss san diego']"
      ]
     },
     "execution_count": 50,
     "metadata": {},
     "output_type": "execute_result"
    }
   ],
   "source": [
    "sentences_list[:2]"
   ]
  },
  {
   "cell_type": "markdown",
   "metadata": {},
   "source": [
    "`BOW`"
   ]
  },
  {
   "cell_type": "code",
   "execution_count": 51,
   "metadata": {},
   "outputs": [],
   "source": [
    "from sklearn.feature_extraction.text import CountVectorizer\n",
    "\n",
    "cv = CountVectorizer()\n",
    "bow_matrix = cv.fit_transform(sentences_list) \n",
    "bow_array = bow_matrix.toarray()"
   ]
  },
  {
   "cell_type": "code",
   "execution_count": 52,
   "metadata": {},
   "outputs": [
    {
     "data": {
      "text/plain": [
       "(27480, 22901)"
      ]
     },
     "execution_count": 52,
     "metadata": {},
     "output_type": "execute_result"
    }
   ],
   "source": [
    "bow_array.shape\n"
   ]
  },
  {
   "cell_type": "code",
   "execution_count": 53,
   "metadata": {},
   "outputs": [
    {
     "data": {
      "text/plain": [
       "(scipy.sparse._csr.csr_matrix, numpy.ndarray)"
      ]
     },
     "execution_count": 53,
     "metadata": {},
     "output_type": "execute_result"
    }
   ],
   "source": [
    "type(bow_matrix), type(bow_array)"
   ]
  },
  {
   "cell_type": "markdown",
   "metadata": {},
   "source": [
    "`TF-IDF`"
   ]
  },
  {
   "cell_type": "code",
   "execution_count": 54,
   "metadata": {},
   "outputs": [],
   "source": [
    "from sklearn.feature_extraction.text import TfidfVectorizer\n",
    "\n",
    "tfidf = TfidfVectorizer()\n",
    "tfidf_matrix = tfidf.fit_transform(sentences_list)\n",
    "tfidf_array = tfidf_matrix.toarray()"
   ]
  },
  {
   "cell_type": "markdown",
   "metadata": {},
   "source": [
    "The fit_transform method expects a sequence of strings as input, where each string is a document. If df['text'] is a list of lists of words, you'll need to join the words into a single string for each document."
   ]
  },
  {
   "cell_type": "markdown",
   "metadata": {},
   "source": [
    "`Word2Vec` - CBOW"
   ]
  },
  {
   "cell_type": "code",
   "execution_count": 55,
   "metadata": {},
   "outputs": [],
   "source": [
    "from gensim.models import Word2Vec\n",
    "\n",
    "cbow = Word2Vec(sentences, vector_size=100, window=5, min_count=2, sg=0)"
   ]
  },
  {
   "cell_type": "code",
   "execution_count": 56,
   "metadata": {},
   "outputs": [
    {
     "data": {
      "text/plain": [
       "list"
      ]
     },
     "execution_count": 56,
     "metadata": {},
     "output_type": "execute_result"
    }
   ],
   "source": [
    "vocab = cbow.wv.index_to_key \n",
    "type(vocab)"
   ]
  },
  {
   "cell_type": "code",
   "execution_count": 57,
   "metadata": {},
   "outputs": [
    {
     "data": {
      "text/plain": [
       "['day', 'good', 'get', 'like', 'go', 'love', 'u', 'work', 'today', 'going']"
      ]
     },
     "execution_count": 57,
     "metadata": {},
     "output_type": "execute_result"
    }
   ],
   "source": [
    "vocab[:10]"
   ]
  },
  {
   "cell_type": "code",
   "execution_count": 58,
   "metadata": {},
   "outputs": [
    {
     "data": {
      "text/plain": [
       "(array([-0.21534169,  0.3087205 ,  0.19482067, -0.17580529, -0.00426495,\n",
       "        -0.82901514,  0.27153003,  1.0006039 , -0.2196306 , -0.3287837 ,\n",
       "        -0.2912599 , -0.4996982 , -0.18230441,  0.08078524,  0.33478463,\n",
       "        -0.36532876,  0.12509698, -0.46997064, -0.02391442, -0.66464865,\n",
       "         0.26253438,  0.274277  ,  0.31344593, -0.25407398, -0.15737793,\n",
       "        -0.00401379, -0.41642871, -0.23272708, -0.46558258,  0.05922022,\n",
       "         0.6709235 , -0.06766735,  0.21791   , -0.18093042, -0.18859702,\n",
       "         0.5074656 , -0.05820607, -0.38268733, -0.30534118, -0.6922061 ,\n",
       "        -0.09104927, -0.25093982, -0.20781623,  0.04111832,  0.5514701 ,\n",
       "        -0.1350412 , -0.30346605, -0.1899702 ,  0.2741291 ,  0.29839915,\n",
       "         0.13262403, -0.35919908, -0.0631748 , -0.1624879 , -0.15114474,\n",
       "         0.10445885,  0.32652855, -0.05749556, -0.28740582,  0.16354315,\n",
       "         0.12434775,  0.22975154, -0.04690525, -0.02783939, -0.45502314,\n",
       "         0.3229011 ,  0.24853036,  0.19356786, -0.62238586,  0.43634647,\n",
       "        -0.38640183,  0.15933256,  0.3415199 , -0.2130356 ,  0.43243796,\n",
       "         0.24807736,  0.03038778, -0.00440874, -0.4964017 ,  0.17574258,\n",
       "        -0.26676804,  0.04235294, -0.40162337,  0.7844974 , -0.0259831 ,\n",
       "         0.12405947, -0.15854527,  0.721571  ,  0.63129425,  0.1810853 ,\n",
       "         0.65173584,  0.20351847,  0.04837837,  0.09323379,  0.6883608 ,\n",
       "         0.45154315,  0.31906086, -0.3963023 ,  0.08191864,  0.03148153],\n",
       "       dtype=float32),\n",
       " (100,))"
      ]
     },
     "execution_count": 58,
     "metadata": {},
     "output_type": "execute_result"
    }
   ],
   "source": [
    "# Get vector for a word\n",
    "vector = cbow.wv['word']\n",
    "vector, vector.shape"
   ]
  },
  {
   "cell_type": "code",
   "execution_count": 59,
   "metadata": {},
   "outputs": [
    {
     "data": {
      "text/plain": [
       "[('lovely', 0.9987196326255798),\n",
       " ('bday', 0.998155415058136),\n",
       " ('special', 0.9977480173110962),\n",
       " ('amazing', 0.9976269602775574),\n",
       " ('dinner', 0.9968589544296265),\n",
       " ('wishing', 0.9968435764312744),\n",
       " ('best', 0.9968082904815674),\n",
       " ('thank', 0.9966809749603271),\n",
       " ('beautiful', 0.9964883923530579),\n",
       " ('bless', 0.9964612722396851)]"
      ]
     },
     "execution_count": 59,
     "metadata": {},
     "output_type": "execute_result"
    }
   ],
   "source": [
    "# Find most similar words\n",
    "similar_words = cbow.wv.most_similar('world')\n",
    "similar_words"
   ]
  },
  {
   "cell_type": "code",
   "execution_count": 60,
   "metadata": {},
   "outputs": [],
   "source": [
    "def get_mean_vector(model, sentence):\n",
    "    words = [word for word in sentence if word in vocab] # if word is not in vocab, it will be ignored\n",
    "    if len(words) >= 1: \n",
    "        return np.mean(model.wv[words], axis=0) # mean of all the word vectors in the sentence, vector_size = 100(initialized earlier)\n",
    "    return np.zeros((100,)) # return a vector of zeros if no words are in vocab"
   ]
  },
  {
   "cell_type": "code",
   "execution_count": 61,
   "metadata": {},
   "outputs": [
    {
     "data": {
      "text/plain": [
       "[['would', 'responded', 'going'], ['sooo', 'sad', 'miss', 'san', 'diego']]"
      ]
     },
     "execution_count": 61,
     "metadata": {},
     "output_type": "execute_result"
    }
   ],
   "source": [
    "sentences[:2]"
   ]
  },
  {
   "cell_type": "code",
   "execution_count": 62,
   "metadata": {},
   "outputs": [
    {
     "data": {
      "text/plain": [
       "27480"
      ]
     },
     "execution_count": 62,
     "metadata": {},
     "output_type": "execute_result"
    }
   ],
   "source": [
    "len(sentences)"
   ]
  },
  {
   "cell_type": "code",
   "execution_count": 63,
   "metadata": {},
   "outputs": [],
   "source": [
    "cbow_array = []\n",
    "\n",
    "for sentence in sentences:\n",
    "    mean_vec = get_mean_vector(cbow, sentence)\n",
    "    cbow_array.append(mean_vec)\n",
    "    \n",
    "cbow_array = np.array(cbow_array)"
   ]
  },
  {
   "cell_type": "code",
   "execution_count": 64,
   "metadata": {},
   "outputs": [
    {
     "data": {
      "text/plain": [
       "(27480, 100)"
      ]
     },
     "execution_count": 64,
     "metadata": {},
     "output_type": "execute_result"
    }
   ],
   "source": [
    "cbow_array.shape"
   ]
  },
  {
   "cell_type": "code",
   "execution_count": 65,
   "metadata": {},
   "outputs": [
    {
     "data": {
      "text/plain": [
       "array([-0.32716173,  0.40932357,  0.20838529,  0.00459619, -0.03994175,\n",
       "       -0.97486866,  0.15860412,  1.35440707, -0.30029657, -0.31602079,\n",
       "       -0.35712928, -0.76023161, -0.30677825,  0.32332739,  0.32108879,\n",
       "       -0.53600287,  0.16991256, -0.6452713 , -0.19283986, -1.00610232,\n",
       "        0.15302746,  0.3617174 ,  0.64532542, -0.57869637,  0.00222818,\n",
       "       -0.10525452, -0.44234994, -0.39641538, -0.63824749,  0.15134852,\n",
       "        0.86856323,  0.09429891,  0.36660007, -0.16791573, -0.38369641,\n",
       "        0.68918872, -0.0398998 , -0.55554473, -0.24146283, -1.24519086,\n",
       "        0.01860099, -0.39809805, -0.05161366,  0.20698598,  0.71580195,\n",
       "       -0.32509586, -0.31290755, -0.16275343,  0.42745146,  0.46869576,\n",
       "        0.27164429, -0.57021028, -0.12669669, -0.25674787, -0.30305952,\n",
       "        0.26769775,  0.27855569, -0.09371591, -0.59359992, -0.00765604,\n",
       "        0.32465374,  0.37438136, -0.01381021, -0.07065711, -0.67368567,\n",
       "        0.44982231,  0.32317057,  0.64879715, -0.71320128,  0.68167579,\n",
       "       -0.24775669,  0.30053556,  0.64335227, -0.08341745,  0.77006829,\n",
       "        0.39051664, -0.20924819, -0.16354097, -0.5785898 ,  0.06065505,\n",
       "       -0.19460842, -0.21929422, -0.77898991,  0.81626427,  0.07838248,\n",
       "        0.03107488, -0.12177271,  0.93261701,  1.08536708,  0.38072854,\n",
       "        0.70547974,  0.45256159,  0.22414538,  0.29338408,  0.98013914,\n",
       "        0.69411385,  0.44778329, -0.50797826,  0.30858517, -0.26409397])"
      ]
     },
     "execution_count": 65,
     "metadata": {},
     "output_type": "execute_result"
    }
   ],
   "source": [
    "cbow_array[0]"
   ]
  },
  {
   "cell_type": "markdown",
   "metadata": {},
   "source": [
    "`Word2Vec` - Skipgram\n"
   ]
  },
  {
   "cell_type": "code",
   "execution_count": 66,
   "metadata": {},
   "outputs": [],
   "source": [
    "sg = Word2Vec(sentences, vector_size=100, window=5, min_count=2, sg=1)"
   ]
  },
  {
   "cell_type": "code",
   "execution_count": 67,
   "metadata": {},
   "outputs": [],
   "source": [
    "vocab_sg = sg.wv.index_to_key"
   ]
  },
  {
   "cell_type": "code",
   "execution_count": 68,
   "metadata": {},
   "outputs": [],
   "source": [
    "sg_array = [] \n",
    "\n",
    "for sentence in sentences:\n",
    "    sg_array.append(get_mean_vector(sg, sentence))\n",
    "    \n",
    "sg_array = np.array(sg_array)"
   ]
  },
  {
   "cell_type": "code",
   "execution_count": 69,
   "metadata": {},
   "outputs": [
    {
     "data": {
      "text/plain": [
       "(27480, 100)"
      ]
     },
     "execution_count": 69,
     "metadata": {},
     "output_type": "execute_result"
    }
   ],
   "source": [
    "sg_array.shape"
   ]
  },
  {
   "cell_type": "markdown",
   "metadata": {},
   "source": [
    "### Build the model "
   ]
  },
  {
   "cell_type": "code",
   "execution_count": 70,
   "metadata": {},
   "outputs": [],
   "source": [
    "y_train = df['sentiment'].values"
   ]
  },
  {
   "cell_type": "markdown",
   "metadata": {},
   "source": [
    "`Naive Bayes`\n",
    "\n",
    "Designed only for non-negative values, cbow and skipgram contains real-values vector which may have negative values hence we only use bow and tf-idf for naive bayes"
   ]
  },
  {
   "cell_type": "code",
   "execution_count": 71,
   "metadata": {},
   "outputs": [],
   "source": [
    "from sklearn.naive_bayes import MultinomialNB"
   ]
  },
  {
   "cell_type": "code",
   "execution_count": 72,
   "metadata": {},
   "outputs": [
    {
     "name": "stdout",
     "output_type": "stream",
     "text": [
      "BOW - Naive Bayes Score 0.8263100436681222\n"
     ]
    }
   ],
   "source": [
    "bow_model = MultinomialNB()\n",
    "bow_model.fit(bow_array,y_train)\n",
    "print('BOW - Naive Bayes Score', bow_model.score(bow_array,y_train))"
   ]
  },
  {
   "cell_type": "code",
   "execution_count": 73,
   "metadata": {},
   "outputs": [
    {
     "name": "stdout",
     "output_type": "stream",
     "text": [
      "TF IDF - Naive Bayes Score 0.7858078602620088\n"
     ]
    }
   ],
   "source": [
    "tfidf_model = MultinomialNB()\n",
    "tfidf_model.fit(tfidf_array,y_train)\n",
    "print('TF IDF - Naive Bayes Score', tfidf_model.score(tfidf_array,y_train))"
   ]
  },
  {
   "cell_type": "markdown",
   "metadata": {},
   "source": [
    "`Decision Tree`"
   ]
  },
  {
   "cell_type": "code",
   "execution_count": 74,
   "metadata": {},
   "outputs": [],
   "source": [
    "from sklearn.tree import DecisionTreeClassifier "
   ]
  },
  {
   "cell_type": "code",
   "execution_count": 75,
   "metadata": {},
   "outputs": [
    {
     "name": "stdout",
     "output_type": "stream",
     "text": [
      "CBOW - Decision Tree Score 0.99490538573508\n"
     ]
    }
   ],
   "source": [
    "cbow_model = DecisionTreeClassifier()\n",
    "cbow_model.fit(cbow_array,y_train)\n",
    "print('CBOW - Decision Tree Score', cbow_model.score(cbow_array,y_train))"
   ]
  },
  {
   "cell_type": "code",
   "execution_count": 76,
   "metadata": {},
   "outputs": [
    {
     "name": "stdout",
     "output_type": "stream",
     "text": [
      "Skipgram - Decision Tree Score 0.99490538573508\n"
     ]
    }
   ],
   "source": [
    "sg_model = DecisionTreeClassifier()\n",
    "sg_model.fit(sg_array,y_train)\n",
    "print('Skipgram - Decision Tree Score', sg_model.score(sg_array,y_train))"
   ]
  },
  {
   "cell_type": "markdown",
   "metadata": {},
   "source": [
    "### Test Data"
   ]
  },
  {
   "cell_type": "code",
   "execution_count": 77,
   "metadata": {},
   "outputs": [],
   "source": [
    "x_test = ['What is not to like about this product.',\n",
    "          'Not bad. ',\n",
    "          'Not an issue. ',\n",
    "          'Not buggy. ',\n",
    "          'Not happy. ',\n",
    "          'Not user-friendly. ',\n",
    "          'Not good. ',\n",
    "          'Is it any good? ',\n",
    "          'I do not dislike horror movies.  ',\n",
    "          'Disliking horror movies is not uncommon.  ',\n",
    "          'Sometimes I really hate the show.  ',\n",
    "          'I love having to wait two months for the next series to come out!  ',\n",
    "          'The final episode was surprising with a terrible twist at the end. ',\n",
    "          'The film was easy to watch but I would not recommend it to my friends.',\n",
    "          \"I LOL'd at the end of the cake scene\"]"
   ]
  },
  {
   "cell_type": "code",
   "execution_count": 78,
   "metadata": {},
   "outputs": [],
   "source": [
    "y_test = [2,1,1,1,0,0,0,1,2,0,0,2,0,0,1]"
   ]
  },
  {
   "cell_type": "code",
   "execution_count": 79,
   "metadata": {},
   "outputs": [],
   "source": [
    "sentiments = {0:'Negative', 1:'Neutral', 2:'Positive'}"
   ]
  },
  {
   "cell_type": "code",
   "execution_count": 80,
   "metadata": {},
   "outputs": [
    {
     "data": {
      "text/html": [
       "<div>\n",
       "<style scoped>\n",
       "    .dataframe tbody tr th:only-of-type {\n",
       "        vertical-align: middle;\n",
       "    }\n",
       "\n",
       "    .dataframe tbody tr th {\n",
       "        vertical-align: top;\n",
       "    }\n",
       "\n",
       "    .dataframe thead th {\n",
       "        text-align: right;\n",
       "    }\n",
       "</style>\n",
       "<table border=\"1\" class=\"dataframe\">\n",
       "  <thead>\n",
       "    <tr style=\"text-align: right;\">\n",
       "      <th></th>\n",
       "      <th>text</th>\n",
       "    </tr>\n",
       "  </thead>\n",
       "  <tbody>\n",
       "    <tr>\n",
       "      <th>0</th>\n",
       "      <td>What is not to like about this product.</td>\n",
       "    </tr>\n",
       "    <tr>\n",
       "      <th>1</th>\n",
       "      <td>Not bad.</td>\n",
       "    </tr>\n",
       "    <tr>\n",
       "      <th>2</th>\n",
       "      <td>Not an issue.</td>\n",
       "    </tr>\n",
       "    <tr>\n",
       "      <th>3</th>\n",
       "      <td>Not buggy.</td>\n",
       "    </tr>\n",
       "    <tr>\n",
       "      <th>4</th>\n",
       "      <td>Not happy.</td>\n",
       "    </tr>\n",
       "  </tbody>\n",
       "</table>\n",
       "</div>"
      ],
      "text/plain": [
       "                                      text\n",
       "0  What is not to like about this product.\n",
       "1                                Not bad. \n",
       "2                           Not an issue. \n",
       "3                              Not buggy. \n",
       "4                              Not happy. "
      ]
     },
     "execution_count": 80,
     "metadata": {},
     "output_type": "execute_result"
    }
   ],
   "source": [
    "x_test = pd.DataFrame({'text': x_test}) # for easier processing\n",
    "x_test.head()"
   ]
  },
  {
   "cell_type": "code",
   "execution_count": 81,
   "metadata": {},
   "outputs": [],
   "source": [
    "x_test['text'] = x_test['text'].str.lower()\n",
    "x_test['contradictions'] = x_test['text'].apply(handle_contractions)\n",
    "x_test['url_removed'] = x_test['contradictions'].apply(remove_urls)\n",
    "x_test['tokens'] = x_test['url_removed'].apply(tokenizer.tokenize)\n",
    "x_test['stop_words_removed'] = x_test['tokens'].apply(lambda x: [word for word in x if word not in stop_words])\n",
    "x_test['punctuation_removed'] = x_test['stop_words_removed'].apply(remove_punctuation)\n",
    "x_test['punctuation_removed'] = x_test['punctuation_removed'].apply(lambda x: [i for i in x if i])\n",
    "x_test['lemmatized'] = x_test['punctuation_removed'].apply(lambda x: [lemmatizer.lemmatize(word) for word in x])"
   ]
  },
  {
   "cell_type": "code",
   "execution_count": 82,
   "metadata": {},
   "outputs": [
    {
     "data": {
      "text/html": [
       "<div>\n",
       "<style scoped>\n",
       "    .dataframe tbody tr th:only-of-type {\n",
       "        vertical-align: middle;\n",
       "    }\n",
       "\n",
       "    .dataframe tbody tr th {\n",
       "        vertical-align: top;\n",
       "    }\n",
       "\n",
       "    .dataframe thead th {\n",
       "        text-align: right;\n",
       "    }\n",
       "</style>\n",
       "<table border=\"1\" class=\"dataframe\">\n",
       "  <thead>\n",
       "    <tr style=\"text-align: right;\">\n",
       "      <th></th>\n",
       "      <th>text</th>\n",
       "      <th>contradictions</th>\n",
       "      <th>url_removed</th>\n",
       "      <th>tokens</th>\n",
       "      <th>stop_words_removed</th>\n",
       "      <th>punctuation_removed</th>\n",
       "      <th>lemmatized</th>\n",
       "    </tr>\n",
       "  </thead>\n",
       "  <tbody>\n",
       "    <tr>\n",
       "      <th>0</th>\n",
       "      <td>what is not to like about this product.</td>\n",
       "      <td>what is not to like about this product.</td>\n",
       "      <td>what is not to like about this product.</td>\n",
       "      <td>[what, is, not, to, like, about, this, product...</td>\n",
       "      <td>[like, product, .]</td>\n",
       "      <td>[like, product]</td>\n",
       "      <td>[like, product]</td>\n",
       "    </tr>\n",
       "    <tr>\n",
       "      <th>1</th>\n",
       "      <td>not bad.</td>\n",
       "      <td>not bad.</td>\n",
       "      <td>not bad.</td>\n",
       "      <td>[not, bad, .]</td>\n",
       "      <td>[bad, .]</td>\n",
       "      <td>[bad]</td>\n",
       "      <td>[bad]</td>\n",
       "    </tr>\n",
       "    <tr>\n",
       "      <th>2</th>\n",
       "      <td>not an issue.</td>\n",
       "      <td>not an issue.</td>\n",
       "      <td>not an issue.</td>\n",
       "      <td>[not, an, issue, .]</td>\n",
       "      <td>[issue, .]</td>\n",
       "      <td>[issue]</td>\n",
       "      <td>[issue]</td>\n",
       "    </tr>\n",
       "    <tr>\n",
       "      <th>3</th>\n",
       "      <td>not buggy.</td>\n",
       "      <td>not buggy.</td>\n",
       "      <td>not buggy.</td>\n",
       "      <td>[not, buggy, .]</td>\n",
       "      <td>[buggy, .]</td>\n",
       "      <td>[buggy]</td>\n",
       "      <td>[buggy]</td>\n",
       "    </tr>\n",
       "    <tr>\n",
       "      <th>4</th>\n",
       "      <td>not happy.</td>\n",
       "      <td>not happy.</td>\n",
       "      <td>not happy.</td>\n",
       "      <td>[not, happy, .]</td>\n",
       "      <td>[happy, .]</td>\n",
       "      <td>[happy]</td>\n",
       "      <td>[happy]</td>\n",
       "    </tr>\n",
       "  </tbody>\n",
       "</table>\n",
       "</div>"
      ],
      "text/plain": [
       "                                      text  \\\n",
       "0  what is not to like about this product.   \n",
       "1                                not bad.    \n",
       "2                           not an issue.    \n",
       "3                              not buggy.    \n",
       "4                              not happy.    \n",
       "\n",
       "                            contradictions  \\\n",
       "0  what is not to like about this product.   \n",
       "1                                not bad.    \n",
       "2                           not an issue.    \n",
       "3                              not buggy.    \n",
       "4                              not happy.    \n",
       "\n",
       "                               url_removed  \\\n",
       "0  what is not to like about this product.   \n",
       "1                                not bad.    \n",
       "2                           not an issue.    \n",
       "3                              not buggy.    \n",
       "4                              not happy.    \n",
       "\n",
       "                                              tokens  stop_words_removed  \\\n",
       "0  [what, is, not, to, like, about, this, product...  [like, product, .]   \n",
       "1                                      [not, bad, .]            [bad, .]   \n",
       "2                                [not, an, issue, .]          [issue, .]   \n",
       "3                                    [not, buggy, .]          [buggy, .]   \n",
       "4                                    [not, happy, .]          [happy, .]   \n",
       "\n",
       "  punctuation_removed       lemmatized  \n",
       "0     [like, product]  [like, product]  \n",
       "1               [bad]            [bad]  \n",
       "2             [issue]          [issue]  \n",
       "3             [buggy]          [buggy]  \n",
       "4             [happy]          [happy]  "
      ]
     },
     "execution_count": 82,
     "metadata": {},
     "output_type": "execute_result"
    }
   ],
   "source": [
    "x_test.head()"
   ]
  },
  {
   "cell_type": "code",
   "execution_count": 83,
   "metadata": {},
   "outputs": [
    {
     "name": "stdout",
     "output_type": "stream",
     "text": [
      "[['like', 'product'], ['bad']]\n",
      "['like product', 'bad']\n"
     ]
    }
   ],
   "source": [
    "test_sentences = x_test['lemmatized'].values.tolist()\n",
    "print(test_sentences[:2])\n",
    "test_sentences_list = [' '.join(i) for i in test_sentences]\n",
    "print(test_sentences_list[:2])"
   ]
  },
  {
   "cell_type": "code",
   "execution_count": 84,
   "metadata": {},
   "outputs": [],
   "source": [
    "bow_test = cv.transform(test_sentences_list).toarray()\n",
    "\n",
    "tfidf = tfidf.transform(test_sentences_list).toarray()\n",
    "\n",
    "cbow_test = []\n",
    "for sentence in test_sentences:\n",
    "    cbow_test.append(get_mean_vector(cbow, sentence))\n",
    "cbow_test = np.array(cbow_test)\n",
    "\n",
    "sg_test = []\n",
    "for sentence in test_sentences:\n",
    "    sg_test.append(get_mean_vector(sg, sentence))\n",
    "sg_test = np.array(sg_test)"
   ]
  },
  {
   "cell_type": "code",
   "execution_count": 85,
   "metadata": {},
   "outputs": [],
   "source": [
    "from sklearn.metrics import classification_report"
   ]
  },
  {
   "cell_type": "code",
   "execution_count": 86,
   "metadata": {},
   "outputs": [
    {
     "name": "stdout",
     "output_type": "stream",
     "text": [
      "BOW - Naive Bayes Predictions: ['Negative', 'Negative', 'Negative', 'Neutral', 'Positive', 'Neutral', 'Positive', 'Positive', 'Negative', 'Negative', 'Negative', 'Positive', 'Neutral', 'Neutral', 'Neutral']\n",
      "Classification Report for BOW - Naive Bayes               precision    recall  f1-score   support\n",
      "\n",
      "           0       0.33      0.29      0.31         7\n",
      "           1       0.40      0.40      0.40         5\n",
      "           2       0.25      0.33      0.29         3\n",
      "\n",
      "    accuracy                           0.33        15\n",
      "   macro avg       0.33      0.34      0.33        15\n",
      "weighted avg       0.34      0.33      0.33        15\n",
      "\n",
      "--------------------------------------------------\n",
      "TF IDF - Naive Bayes Predictions: ['Negative', 'Negative', 'Negative', 'Neutral', 'Positive', 'Neutral', 'Positive', 'Positive', 'Negative', 'Negative', 'Negative', 'Positive', 'Neutral', 'Neutral', 'Neutral']\n",
      "Classification Report for TF IDF - Naive Bayes               precision    recall  f1-score   support\n",
      "\n",
      "           0       0.33      0.29      0.31         7\n",
      "           1       0.40      0.40      0.40         5\n",
      "           2       0.25      0.33      0.29         3\n",
      "\n",
      "    accuracy                           0.33        15\n",
      "   macro avg       0.33      0.34      0.33        15\n",
      "weighted avg       0.34      0.33      0.33        15\n",
      "\n",
      "--------------------------------------------------\n",
      "CBOW - Decision Tree Predictions: ['Neutral', 'Negative', 'Positive', 'Neutral', 'Negative', 'Neutral', 'Positive', 'Positive', 'Positive', 'Negative', 'Negative', 'Neutral', 'Negative', 'Neutral', 'Neutral']\n",
      "Classification Report for CBOW - Decision Tree               precision    recall  f1-score   support\n",
      "\n",
      "           0       0.80      0.57      0.67         7\n",
      "           1       0.33      0.40      0.36         5\n",
      "           2       0.25      0.33      0.29         3\n",
      "\n",
      "    accuracy                           0.47        15\n",
      "   macro avg       0.46      0.43      0.44        15\n",
      "weighted avg       0.53      0.47      0.49        15\n",
      "\n",
      "--------------------------------------------------\n",
      "Skipgram - Decision Tree Predictions: ['Neutral', 'Negative', 'Neutral', 'Neutral', 'Negative', 'Neutral', 'Positive', 'Positive', 'Neutral', 'Positive', 'Neutral', 'Positive', 'Positive', 'Positive', 'Positive']\n",
      "Classification Report for Skipgram - Decision Tree               precision    recall  f1-score   support\n",
      "\n",
      "           0       0.50      0.14      0.22         7\n",
      "           1       0.33      0.40      0.36         5\n",
      "           2       0.14      0.33      0.20         3\n",
      "\n",
      "    accuracy                           0.27        15\n",
      "   macro avg       0.33      0.29      0.26        15\n",
      "weighted avg       0.37      0.27      0.26        15\n",
      "\n"
     ]
    }
   ],
   "source": [
    "y_bow = bow_model.predict(bow_test)\n",
    "print('BOW - Naive Bayes Predictions:', [sentiments[i] for i in y_bow])\n",
    "print('Classification Report for BOW - Naive Bayes', classification_report(y_test, y_bow))\n",
    "\n",
    "print(\"-\"*50)\n",
    "\n",
    "y_tfidf = tfidf_model.predict(tfidf)\n",
    "print('TF IDF - Naive Bayes Predictions:', [sentiments[i] for i in y_tfidf])\n",
    "print('Classification Report for TF IDF - Naive Bayes', classification_report(y_test, y_tfidf))\n",
    "\n",
    "print(\"-\"*50)\n",
    "\n",
    "y_cbow = cbow_model.predict(cbow_test)\n",
    "print('CBOW - Decision Tree Predictions:', [sentiments[i] for i in y_cbow])\n",
    "print('Classification Report for CBOW - Decision Tree', classification_report(y_test, y_cbow))\n",
    "\n",
    "print(\"-\"*50)\n",
    "\n",
    "y_sg = sg_model.predict(sg_test)\n",
    "print('Skipgram - Decision Tree Predictions:', [sentiments[i] for i in y_sg])\n",
    "print('Classification Report for Skipgram - Decision Tree', classification_report(y_test, y_sg))"
   ]
  },
  {
   "cell_type": "markdown",
   "metadata": {},
   "source": []
  },
  {
   "cell_type": "code",
   "execution_count": 88,
   "metadata": {},
   "outputs": [],
   "source": [
    "x_test = x_test['text']\n",
    "y_bow = pd.DataFrame(y_bow,columns=['Prediction : BOW'])\n",
    "y_tfidf = pd.DataFrame(y_tfidf,columns=['Prediction : TF IDF'])\n",
    "y_cbow = pd.DataFrame(y_cbow,columns=['Prediction : CBOW'])\n",
    "y_sg = pd.DataFrame(y_sg,columns=['Prediction : Skipgram'])\n",
    "y_test = pd.DataFrame(y_test,columns=['Actual'])"
   ]
  },
  {
   "cell_type": "code",
   "execution_count": 91,
   "metadata": {},
   "outputs": [],
   "source": [
    "final = pd.concat([x_test,y_test,y_bow,y_tfidf,y_cbow,y_sg],axis=1)"
   ]
  },
  {
   "cell_type": "code",
   "execution_count": 94,
   "metadata": {},
   "outputs": [],
   "source": [
    "final['Actual'] = final['Actual'].map(sentiments)\n",
    "final['Prediction : BOW'] = final['Prediction : BOW'].map(sentiments)\n",
    "final['Prediction : TF IDF'] = final['Prediction : TF IDF'].map(sentiments)\n",
    "final['Prediction : CBOW'] = final['Prediction : CBOW'].map(sentiments)\n",
    "final['Prediction : Skipgram'] = final['Prediction : Skipgram'].map(sentiments)"
   ]
  },
  {
   "cell_type": "code",
   "execution_count": 95,
   "metadata": {},
   "outputs": [
    {
     "data": {
      "text/html": [
       "<div>\n",
       "<style scoped>\n",
       "    .dataframe tbody tr th:only-of-type {\n",
       "        vertical-align: middle;\n",
       "    }\n",
       "\n",
       "    .dataframe tbody tr th {\n",
       "        vertical-align: top;\n",
       "    }\n",
       "\n",
       "    .dataframe thead th {\n",
       "        text-align: right;\n",
       "    }\n",
       "</style>\n",
       "<table border=\"1\" class=\"dataframe\">\n",
       "  <thead>\n",
       "    <tr style=\"text-align: right;\">\n",
       "      <th></th>\n",
       "      <th>text</th>\n",
       "      <th>Actual</th>\n",
       "      <th>Prediction : BOW</th>\n",
       "      <th>Prediction : TF IDF</th>\n",
       "      <th>Prediction : CBOW</th>\n",
       "      <th>Prediction : Skipgram</th>\n",
       "    </tr>\n",
       "  </thead>\n",
       "  <tbody>\n",
       "    <tr>\n",
       "      <th>0</th>\n",
       "      <td>what is not to like about this product.</td>\n",
       "      <td>Positive</td>\n",
       "      <td>Negative</td>\n",
       "      <td>Negative</td>\n",
       "      <td>Neutral</td>\n",
       "      <td>Neutral</td>\n",
       "    </tr>\n",
       "    <tr>\n",
       "      <th>1</th>\n",
       "      <td>not bad.</td>\n",
       "      <td>Neutral</td>\n",
       "      <td>Negative</td>\n",
       "      <td>Negative</td>\n",
       "      <td>Negative</td>\n",
       "      <td>Negative</td>\n",
       "    </tr>\n",
       "    <tr>\n",
       "      <th>2</th>\n",
       "      <td>not an issue.</td>\n",
       "      <td>Neutral</td>\n",
       "      <td>Negative</td>\n",
       "      <td>Negative</td>\n",
       "      <td>Positive</td>\n",
       "      <td>Neutral</td>\n",
       "    </tr>\n",
       "    <tr>\n",
       "      <th>3</th>\n",
       "      <td>not buggy.</td>\n",
       "      <td>Neutral</td>\n",
       "      <td>Neutral</td>\n",
       "      <td>Neutral</td>\n",
       "      <td>Neutral</td>\n",
       "      <td>Neutral</td>\n",
       "    </tr>\n",
       "    <tr>\n",
       "      <th>4</th>\n",
       "      <td>not happy.</td>\n",
       "      <td>Negative</td>\n",
       "      <td>Positive</td>\n",
       "      <td>Positive</td>\n",
       "      <td>Negative</td>\n",
       "      <td>Negative</td>\n",
       "    </tr>\n",
       "    <tr>\n",
       "      <th>5</th>\n",
       "      <td>not user-friendly.</td>\n",
       "      <td>Negative</td>\n",
       "      <td>Neutral</td>\n",
       "      <td>Neutral</td>\n",
       "      <td>Neutral</td>\n",
       "      <td>Neutral</td>\n",
       "    </tr>\n",
       "    <tr>\n",
       "      <th>6</th>\n",
       "      <td>not good.</td>\n",
       "      <td>Negative</td>\n",
       "      <td>Positive</td>\n",
       "      <td>Positive</td>\n",
       "      <td>Positive</td>\n",
       "      <td>Positive</td>\n",
       "    </tr>\n",
       "    <tr>\n",
       "      <th>7</th>\n",
       "      <td>is it any good?</td>\n",
       "      <td>Neutral</td>\n",
       "      <td>Positive</td>\n",
       "      <td>Positive</td>\n",
       "      <td>Positive</td>\n",
       "      <td>Positive</td>\n",
       "    </tr>\n",
       "    <tr>\n",
       "      <th>8</th>\n",
       "      <td>i do not dislike horror movies.</td>\n",
       "      <td>Positive</td>\n",
       "      <td>Negative</td>\n",
       "      <td>Negative</td>\n",
       "      <td>Positive</td>\n",
       "      <td>Neutral</td>\n",
       "    </tr>\n",
       "    <tr>\n",
       "      <th>9</th>\n",
       "      <td>disliking horror movies is not uncommon.</td>\n",
       "      <td>Negative</td>\n",
       "      <td>Negative</td>\n",
       "      <td>Negative</td>\n",
       "      <td>Negative</td>\n",
       "      <td>Positive</td>\n",
       "    </tr>\n",
       "  </tbody>\n",
       "</table>\n",
       "</div>"
      ],
      "text/plain": [
       "                                         text    Actual Prediction : BOW  \\\n",
       "0     what is not to like about this product.  Positive         Negative   \n",
       "1                                   not bad.    Neutral         Negative   \n",
       "2                              not an issue.    Neutral         Negative   \n",
       "3                                 not buggy.    Neutral          Neutral   \n",
       "4                                 not happy.   Negative         Positive   \n",
       "5                         not user-friendly.   Negative          Neutral   \n",
       "6                                  not good.   Negative         Positive   \n",
       "7                            is it any good?    Neutral         Positive   \n",
       "8           i do not dislike horror movies.    Positive         Negative   \n",
       "9  disliking horror movies is not uncommon.    Negative         Negative   \n",
       "\n",
       "  Prediction : TF IDF Prediction : CBOW Prediction : Skipgram  \n",
       "0            Negative           Neutral               Neutral  \n",
       "1            Negative          Negative              Negative  \n",
       "2            Negative          Positive               Neutral  \n",
       "3             Neutral           Neutral               Neutral  \n",
       "4            Positive          Negative              Negative  \n",
       "5             Neutral           Neutral               Neutral  \n",
       "6            Positive          Positive              Positive  \n",
       "7            Positive          Positive              Positive  \n",
       "8            Negative          Positive               Neutral  \n",
       "9            Negative          Negative              Positive  "
      ]
     },
     "execution_count": 95,
     "metadata": {},
     "output_type": "execute_result"
    }
   ],
   "source": [
    "final.head(10)"
   ]
  },
  {
   "attachments": {
    "image-2.png": {
     "image/png": "[encoded data removed]"
    }
   },
   "cell_type": "markdown",
   "metadata": {},
   "source": [
    "### Inference \n",
    "![image-2.png](attachment:image-2.png)"
   ]
  },
  {
   "cell_type": "markdown",
   "metadata": {},
   "source": []
  }
 ],
 "metadata": {
  "kernelspec": {
   "display_name": "Python 3",
   "language": "python",
   "name": "python3"
  },
  "language_info": {
   "codemirror_mode": {
    "name": "ipython",
    "version": 3
   },
   "file_extension": ".py",
   "mimetype": "text/x-python",
   "name": "python",
   "nbconvert_exporter": "python",
   "pygments_lexer": "ipython3",
   "version": "3.11.4"
  }
 },
 "nbformat": 4,
 "nbformat_minor": 2
}
