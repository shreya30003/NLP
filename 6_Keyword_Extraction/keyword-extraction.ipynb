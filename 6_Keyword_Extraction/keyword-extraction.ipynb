{
 "cells": [
  {
   "cell_type": "markdown",
   "metadata": {},
   "source": [
    "## Keyword Extraction\n",
    "\n",
    "`Task:`\n",
    "- Develop a model for identifying and extracting keywords/ key phrases from the input sequence.\n",
    "- Use Named Entity Recognition and PoS tagging as a feature that contribute to the extraction."
   ]
  },
  {
   "cell_type": "markdown",
   "metadata": {},
   "source": [
    "### Import the necessary libraries and load the dataset"
   ]
  },
  {
   "cell_type": "code",
   "execution_count": 9,
   "metadata": {},
   "outputs": [],
   "source": [
    "import os\n",
    "import pandas as pd\n",
    "import numpy as np\n",
    "import re\n",
    "from nltk.corpus import stopwords\n",
    "from sklearn.feature_extraction.text import CountVectorizer\n",
    "from sklearn.feature_extraction.text import TfidfTransformer\n",
    "from nltk.tokenize import word_tokenize\n",
    "from keybert import KeyBERT\n",
    "from keyphrase_vectorizers import KeyphraseCountVectorizer\n",
    "from collections import defaultdict"
   ]
  },
  {
   "cell_type": "code",
   "execution_count": 8,
   "metadata": {},
   "outputs": [],
   "source": [
    "# !pip install keybert\n",
    "# !pip install keyphrase_vectorizers"
   ]
  },
  {
   "cell_type": "code",
   "execution_count": 12,
   "metadata": {},
   "outputs": [],
   "source": [
    "files = os.listdir('docsutf8')"
   ]
  },
  {
   "cell_type": "code",
   "execution_count": 38,
   "metadata": {},
   "outputs": [],
   "source": [
    "data = defaultdict(list)\n",
    "\n",
    "for f in files:\n",
    "    with open(f\"docsutf8/{f}\", encoding=\"utf8\") as fi, open(f\"keys/{f.split('.')[0] + '.key'}\", encoding=\"utf8\") as key:\n",
    "        data['file'].append(fi.read())\n",
    "        data['key'].append(key.read().splitlines())\n",
    "\n",
    "df = pd.DataFrame(data)"
   ]
  },
  {
   "cell_type": "markdown",
   "metadata": {},
   "source": [
    "### Understand the data and preprocess the text"
   ]
  },
  {
   "cell_type": "code",
   "execution_count": 39,
   "metadata": {},
   "outputs": [
    {
     "data": {
      "text/html": [
       "<div>\n",
       "<style scoped>\n",
       "    .dataframe tbody tr th:only-of-type {\n",
       "        vertical-align: middle;\n",
       "    }\n",
       "\n",
       "    .dataframe tbody tr th {\n",
       "        vertical-align: top;\n",
       "    }\n",
       "\n",
       "    .dataframe thead th {\n",
       "        text-align: right;\n",
       "    }\n",
       "</style>\n",
       "<table border=\"1\" class=\"dataframe\">\n",
       "  <thead>\n",
       "    <tr style=\"text-align: right;\">\n",
       "      <th></th>\n",
       "      <th>file</th>\n",
       "      <th>key</th>\n",
       "    </tr>\n",
       "  </thead>\n",
       "  <tbody>\n",
       "    <tr>\n",
       "      <th>0</th>\n",
       "      <td>Complex Langevin (CL) dynamics  [1,2] provides...</td>\n",
       "      <td>[CL, complexified configuration space, Complex...</td>\n",
       "    </tr>\n",
       "    <tr>\n",
       "      <th>1</th>\n",
       "      <td>Nuclear theory devoted major efforts since 4 d...</td>\n",
       "      <td>[C60, combining quantum features, field of clu...</td>\n",
       "    </tr>\n",
       "    <tr>\n",
       "      <th>2</th>\n",
       "      <td>The next important step might be the derivatio...</td>\n",
       "      <td>[continuum space-time, Dirac equation, future ...</td>\n",
       "    </tr>\n",
       "    <tr>\n",
       "      <th>3</th>\n",
       "      <td>This work shows how our approach based on the ...</td>\n",
       "      <td>[class virial expansions, field partition func...</td>\n",
       "    </tr>\n",
       "    <tr>\n",
       "      <th>4</th>\n",
       "      <td>A fluctuating vacuum is a general feature of q...</td>\n",
       "      <td>[a collection of fermionic fields describing c...</td>\n",
       "    </tr>\n",
       "  </tbody>\n",
       "</table>\n",
       "</div>"
      ],
      "text/plain": [
       "                                                file  \\\n",
       "0  Complex Langevin (CL) dynamics  [1,2] provides...   \n",
       "1  Nuclear theory devoted major efforts since 4 d...   \n",
       "2  The next important step might be the derivatio...   \n",
       "3  This work shows how our approach based on the ...   \n",
       "4  A fluctuating vacuum is a general feature of q...   \n",
       "\n",
       "                                                 key  \n",
       "0  [CL, complexified configuration space, Complex...  \n",
       "1  [C60, combining quantum features, field of clu...  \n",
       "2  [continuum space-time, Dirac equation, future ...  \n",
       "3  [class virial expansions, field partition func...  \n",
       "4  [a collection of fermionic fields describing c...  "
      ]
     },
     "execution_count": 39,
     "metadata": {},
     "output_type": "execute_result"
    }
   ],
   "source": [
    "df.head()"
   ]
  },
  {
   "cell_type": "code",
   "execution_count": 40,
   "metadata": {},
   "outputs": [
    {
     "data": {
      "text/plain": [
       "(493, 2)"
      ]
     },
     "execution_count": 40,
     "metadata": {},
     "output_type": "execute_result"
    }
   ],
   "source": [
    "df.shape"
   ]
  },
  {
   "cell_type": "code",
   "execution_count": 41,
   "metadata": {},
   "outputs": [
    {
     "name": "stdout",
     "output_type": "stream",
     "text": [
      "Complex Langevin (CL) dynamics  [1,2] provides an approach to circumvent the sign problem in numerical simulations of lattice field theories with a complex Boltzmann weight, since it does not rely on importance sampling. In recent years a number of stimulating results has been obtained in the context of nonzero chemical potential, in both lower and four-dimensional field theories with a severe sign problem in the thermodynamic limit  [3–8] (for two recent reviews, see e.g. Refs.  [9,10]). However, as has been known since shortly after its inception, correct results are not guaranteed  [11–16]. This calls for an improved understanding, relying on the combination of analytical and numerical insight. In the recent past, the important role played by the properties of the real and positive probability distribution in the complexified configuration space, which is effectively sampled during the Langevin process, has been clarified  [17,18]. An important conclusion was that this distribution should be sufficiently localised in order for CL to yield valid results. Importantly, this insight has recently also led to promising results in nonabelian gauge theories, with the implementation of SL(N,C) gauge cooling  [8,10].\n",
      "\n"
     ]
    }
   ],
   "source": [
    "print(df['file'][0])"
   ]
  },
  {
   "cell_type": "markdown",
   "metadata": {},
   "source": [
    "'''\n",
    "Complex Langevin (CL) dynamics  [1,2] provides an approach to circumvent the sign problem in numerical simulations of lattice field theories with a complex Boltzmann weight, since it does not rely on importance sampling. In recent years a number of stimulating results has been obtained in the context of nonzero chemical potential, in both lower and four-dimensional field theories with a severe sign problem in the thermodynamic limit  [3–8] (for two recent reviews, see e.g. Refs.  [9,10]). However, as has been known since shortly after its inception, correct results are not guaranteed  [11–16]. This calls for an improved understanding, relying on the combination of analytical and numerical insight. In the recent past, the important role played by the properties of the real and positive probability distribution in the complexified configuration space, which is effectively sampled during the Langevin process, has been clarified  [17,18]. An important conclusion was that this distribution should be sufficiently localised in order for CL to yield valid results. Importantly, this insight has recently also led to promising results in nonabelian gauge theories, with the implementation of SL(N,C) gauge cooling  [8,10].\n",
    "'''"
   ]
  },
  {
   "cell_type": "code",
   "execution_count": 45,
   "metadata": {},
   "outputs": [],
   "source": [
    "def remove_brackets(text):\n",
    "    return re.sub(r'\\[.*?\\]', '', text)\n",
    "\n",
    "df['file'] = df['file'].apply(remove_brackets)"
   ]
  },
  {
   "cell_type": "code",
   "execution_count": 48,
   "metadata": {},
   "outputs": [],
   "source": [
    "# remove stopwords\n",
    "stop_words = set(stopwords.words('english'))\n",
    "def remove_stopwords(text):\n",
    "    return ' '.join([word for word in text.split() if word.lower() not in stop_words])\n",
    "\n",
    "df['file'] = df['file'].apply(remove_stopwords)"
   ]
  },
  {
   "cell_type": "code",
   "execution_count": 51,
   "metadata": {},
   "outputs": [
    {
     "name": "stdout",
     "output_type": "stream",
     "text": [
      "Complex Langevin  dynamics provides approach circumvent sign problem numerical simulations lattice field theories complex Boltzmann weight, since rely importance sampling. recent years number stimulating results obtained context nonzero chemical potential, lower four-dimensional field theories severe sign problem thermodynamic limit . However, known since shortly inception, correct results guaranteed . calls improved understanding, relying combination analytical numerical insight. recent past, important role played properties real positive probability distribution complexified configuration space, effectively sampled Langevin process, clarified . important conclusion distribution sufficiently localised order CL yield valid results. Importantly, insight recently also led promising results nonabelian gauge theories, implementation SL gauge cooling .\n"
     ]
    }
   ],
   "source": [
    "print(df['file'][0])"
   ]
  },
  {
   "cell_type": "markdown",
   "metadata": {},
   "source": [
    "'''Complex Langevin (CL) dynamics provides approach circumvent sign problem numerical simulations lattice field theories complex Boltzmann weight, since rely importance sampling. recent years number stimulating results obtained context nonzero chemical potential, lower four-dimensional field theories severe sign problem thermodynamic limit (for two recent reviews, see e.g. Refs. ). However, known since shortly inception, correct results guaranteed . calls improved understanding, relying combination analytical numerical insight. recent past, important role played properties real positive probability distribution complexified configuration space, effectively sampled Langevin process, clarified . important conclusion distribution sufficiently localised order CL yield valid results. Importantly, insight recently also led promising results nonabelian gauge theories, implementation SL(N,C) gauge cooling .\n",
    "'''"
   ]
  },
  {
   "cell_type": "code",
   "execution_count": 50,
   "metadata": {},
   "outputs": [],
   "source": [
    "# remove ()\n",
    "def remove_parentheses(text):\n",
    "    return re.sub(r'\\(.*?\\)', '', text)\n",
    "\n",
    "df['file'] = df['file'].apply(remove_parentheses)"
   ]
  },
  {
   "cell_type": "code",
   "execution_count": 52,
   "metadata": {},
   "outputs": [],
   "source": [
    "# lower case\n",
    "df['file'] = df['file'].str.lower()"
   ]
  },
  {
   "cell_type": "markdown",
   "metadata": {},
   "source": [
    "### Embeddings"
   ]
  },
  {
   "cell_type": "code",
   "execution_count": 53,
   "metadata": {},
   "outputs": [
    {
     "data": {
      "text/plain": [
       "['complex langevin  dynamics provides approach circumvent sign problem numerical simulations lattice field theories complex boltzmann weight, since rely importance sampling. recent years number stimulating results obtained context nonzero chemical potential, lower four-dimensional field theories severe sign problem thermodynamic limit . however, known since shortly inception, correct results guaranteed . calls improved understanding, relying combination analytical numerical insight. recent past, important role played properties real positive probability distribution complexified configuration space, effectively sampled langevin process, clarified . important conclusion distribution sufficiently localised order cl yield valid results. importantly, insight recently also led promising results nonabelian gauge theories, implementation sl gauge cooling .',\n",
       " 'nuclear theory devoted major efforts since 4 decades describe thermalization nuclear reactions, predominantly using semi-classical methods , line similar problems quantum liquids . attempts develop improved molecular dynamics methods combining quantum features semi classical treatment dynamical correlations . still, clear-cut quantum approach readily available yet, spite numerous formal attempts . field clusters nano structures far younger fast developing relation ongoing developments lasers imaging techniques. semiclassical approaches also considered field include dynamical corrections could qualitatively describe dynamical processes. approaches bound simple metals sufficiently delocalized wave functions, thus smooth potentials justifying semiclassical approximations. case organic systems, particular much celebrated c60 , cannot treated way. semi classical, even classical approaches, used high excitations delivered intense laser pulses . cases system blown details quantum mechanical features matter anymore. less violent scenarios, quantum shell effects cannot ignored.']"
      ]
     },
     "execution_count": 53,
     "metadata": {},
     "output_type": "execute_result"
    }
   ],
   "source": [
    "doc = df['file'].tolist()\n",
    "doc[:2]"
   ]
  },
  {
   "cell_type": "markdown",
   "metadata": {},
   "source": [
    "`BOW`"
   ]
  },
  {
   "cell_type": "code",
   "execution_count": 54,
   "metadata": {},
   "outputs": [],
   "source": [
    "cv = CountVectorizer(max_df=0.85, max_features=10000) \n",
    "# max_df - ignore terms that have a document frequency strictly higher than the given threshold\n",
    "# max_features - maximum number of features"
   ]
  },
  {
   "cell_type": "code",
   "execution_count": 55,
   "metadata": {},
   "outputs": [
    {
     "data": {
      "text/plain": [
       "(493, 9213)"
      ]
     },
     "execution_count": 55,
     "metadata": {},
     "output_type": "execute_result"
    }
   ],
   "source": [
    "bow = cv.fit_transform(doc)\n",
    "bow_array = bow.toarray()\n",
    "bow_array.shape"
   ]
  },
  {
   "cell_type": "markdown",
   "metadata": {},
   "source": [
    "`TF IDF`"
   ]
  },
  {
   "cell_type": "code",
   "execution_count": 56,
   "metadata": {},
   "outputs": [],
   "source": [
    "tfidf = TfidfTransformer(smooth_idf=True, use_idf=True)\n",
    "# smooth_idf - smooth idf weights by adding one to document frequencies\n",
    "# use_idf - enable inverse-document-frequency reweighting\n",
    "# by default, smooth_idf=True and use_idf=True"
   ]
  },
  {
   "cell_type": "code",
   "execution_count": 58,
   "metadata": {},
   "outputs": [
    {
     "data": {
      "text/plain": [
       "(9213,)"
      ]
     },
     "execution_count": 58,
     "metadata": {},
     "output_type": "execute_result"
    }
   ],
   "source": [
    "tfidf.fit(bow) # fit the transformer on the bag of words\n",
    "tfidf.idf_.shape"
   ]
  },
  {
   "cell_type": "code",
   "execution_count": null,
   "metadata": {},
   "outputs": [],
   "source": []
  }
 ],
 "metadata": {
  "kernelspec": {
   "display_name": "Python 3",
   "language": "python",
   "name": "python3"
  },
  "language_info": {
   "codemirror_mode": {
    "name": "ipython",
    "version": 3
   },
   "file_extension": ".py",
   "mimetype": "text/x-python",
   "name": "python",
   "nbconvert_exporter": "python",
   "pygments_lexer": "ipython3",
   "version": "3.11.4"
  }
 },
 "nbformat": 4,
 "nbformat_minor": 2
}
